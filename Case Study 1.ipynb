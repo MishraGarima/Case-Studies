{
 "cells": [
  {
   "cell_type": "markdown",
   "metadata": {},
   "source": [
    "# Case Study 1"
   ]
  },
  {
   "cell_type": "code",
   "execution_count": 1,
   "metadata": {},
   "outputs": [],
   "source": [
    "#import required packages\n",
    "import pandas as pd\n",
    "import numpy as np\n",
    "from statistics import mean\n",
    "import seaborn as sns\n",
    "import matplotlib.pyplot as plt"
   ]
  },
  {
   "cell_type": "code",
   "execution_count": 2,
   "metadata": {},
   "outputs": [],
   "source": [
    "#import required dataset into pandas dataframe\n",
    "df1 = pd.read_csv(\"E:\\Datasets\\Data\\Fines paid  by doctors.csv\")\n",
    "df2 = pd.read_excel(\"E:\\Datasets\\Data\\Emails sent.xlsx\")"
   ]
  },
  {
   "cell_type": "code",
   "execution_count": 3,
   "metadata": {},
   "outputs": [
    {
     "name": "stdout",
     "output_type": "stream",
     "text": [
      "Dataset Shape :  (10087, 8)\n",
      "Columns present :  Index(['org_indiv', 'first_name', 'last_name', 'city', 'state', 'category',\n",
      "       ' cash_fine ', ' online_fine '],\n",
      "      dtype='object')\n"
     ]
    },
    {
     "data": {
      "text/html": [
       "<div>\n",
       "<style scoped>\n",
       "    .dataframe tbody tr th:only-of-type {\n",
       "        vertical-align: middle;\n",
       "    }\n",
       "\n",
       "    .dataframe tbody tr th {\n",
       "        vertical-align: top;\n",
       "    }\n",
       "\n",
       "    .dataframe thead th {\n",
       "        text-align: right;\n",
       "    }\n",
       "</style>\n",
       "<table border=\"1\" class=\"dataframe\">\n",
       "  <thead>\n",
       "    <tr style=\"text-align: right;\">\n",
       "      <th></th>\n",
       "      <th>org_indiv</th>\n",
       "      <th>first_name</th>\n",
       "      <th>last_name</th>\n",
       "      <th>city</th>\n",
       "      <th>state</th>\n",
       "      <th>category</th>\n",
       "      <th>cash_fine</th>\n",
       "      <th>online_fine</th>\n",
       "    </tr>\n",
       "  </thead>\n",
       "  <tbody>\n",
       "    <tr>\n",
       "      <th>0</th>\n",
       "      <td>3-D MEDICAL SERVICES LLC</td>\n",
       "      <td>STEVEN</td>\n",
       "      <td>DEITELZWEIG</td>\n",
       "      <td>NEW ORLEANS</td>\n",
       "      <td>LA</td>\n",
       "      <td>Professional Advising</td>\n",
       "      <td>$2,625.00</td>\n",
       "      <td>$-</td>\n",
       "    </tr>\n",
       "    <tr>\n",
       "      <th>1</th>\n",
       "      <td>AA DOCTORS, INC.</td>\n",
       "      <td>AAKASH</td>\n",
       "      <td>AHUJA</td>\n",
       "      <td>PASO ROBLES</td>\n",
       "      <td>CA</td>\n",
       "      <td>Expert-Led Forums</td>\n",
       "      <td>$1,000.00</td>\n",
       "      <td>$-</td>\n",
       "    </tr>\n",
       "    <tr>\n",
       "      <th>2</th>\n",
       "      <td>ABBO, LILIAN MARGARITA</td>\n",
       "      <td>LILIAN</td>\n",
       "      <td>ABBO</td>\n",
       "      <td>MIAMI</td>\n",
       "      <td>FL</td>\n",
       "      <td>Business Related Travel</td>\n",
       "      <td>$-</td>\n",
       "      <td>$448.00</td>\n",
       "    </tr>\n",
       "    <tr>\n",
       "      <th>3</th>\n",
       "      <td>ABBO, LILIAN MARGARITA</td>\n",
       "      <td>LILIAN</td>\n",
       "      <td>ABBO</td>\n",
       "      <td>MIAMI</td>\n",
       "      <td>FL</td>\n",
       "      <td>Meals</td>\n",
       "      <td>$-</td>\n",
       "      <td>$119.00</td>\n",
       "    </tr>\n",
       "    <tr>\n",
       "      <th>4</th>\n",
       "      <td>ABBO, LILIAN MARGARITA</td>\n",
       "      <td>LILIAN</td>\n",
       "      <td>ABBO</td>\n",
       "      <td>MIAMI</td>\n",
       "      <td>FL</td>\n",
       "      <td>Professional Advising</td>\n",
       "      <td>$1,800.00</td>\n",
       "      <td>$-</td>\n",
       "    </tr>\n",
       "  </tbody>\n",
       "</table>\n",
       "</div>"
      ],
      "text/plain": [
       "                  org_indiv first_name    last_name         city state  \\\n",
       "0  3-D MEDICAL SERVICES LLC     STEVEN  DEITELZWEIG  NEW ORLEANS    LA   \n",
       "1          AA DOCTORS, INC.     AAKASH        AHUJA  PASO ROBLES    CA   \n",
       "2    ABBO, LILIAN MARGARITA     LILIAN         ABBO        MIAMI    FL   \n",
       "3    ABBO, LILIAN MARGARITA     LILIAN         ABBO        MIAMI    FL   \n",
       "4    ABBO, LILIAN MARGARITA     LILIAN         ABBO        MIAMI    FL   \n",
       "\n",
       "                  category  cash_fine   online_fine   \n",
       "0    Professional Advising  $2,625.00          $-     \n",
       "1        Expert-Led Forums  $1,000.00          $-     \n",
       "2  Business Related Travel       $-         $448.00   \n",
       "3                    Meals       $-         $119.00   \n",
       "4    Professional Advising  $1,800.00          $-     "
      ]
     },
     "execution_count": 3,
     "metadata": {},
     "output_type": "execute_result"
    }
   ],
   "source": [
    "#printing dataset shape\n",
    "print(\"Dataset Shape : \", df1.shape)\n",
    "print(\"Columns present : \",df1.columns)\n",
    "df1.head()"
   ]
  },
  {
   "cell_type": "code",
   "execution_count": 4,
   "metadata": {},
   "outputs": [
    {
     "name": "stdout",
     "output_type": "stream",
     "text": [
      "<class 'pandas.core.frame.DataFrame'>\n",
      "RangeIndex: 10087 entries, 0 to 10086\n",
      "Data columns (total 8 columns):\n",
      " #   Column         Non-Null Count  Dtype \n",
      "---  ------         --------------  ----- \n",
      " 0   org_indiv      10087 non-null  object\n",
      " 1   first_name     9884 non-null   object\n",
      " 2   last_name      10087 non-null  object\n",
      " 3   city           10087 non-null  object\n",
      " 4   state          10087 non-null  object\n",
      " 5   category       10086 non-null  object\n",
      " 6    cash_fine     10087 non-null  object\n",
      " 7    online_fine   10087 non-null  object\n",
      "dtypes: object(8)\n",
      "memory usage: 630.6+ KB\n"
     ]
    }
   ],
   "source": [
    "#obtaining the information on the dataset\n",
    "df1.info()"
   ]
  },
  {
   "cell_type": "code",
   "execution_count": 5,
   "metadata": {},
   "outputs": [
    {
     "name": "stdout",
     "output_type": "stream",
     "text": [
      "Dataset Shape :  (272, 5)\n",
      "Columns present :  Index(['name_last', 'name_first', 'name_middle', 'mail_sent_date', 'office'], dtype='object')\n"
     ]
    },
    {
     "data": {
      "text/html": [
       "<div>\n",
       "<style scoped>\n",
       "    .dataframe tbody tr th:only-of-type {\n",
       "        vertical-align: middle;\n",
       "    }\n",
       "\n",
       "    .dataframe tbody tr th {\n",
       "        vertical-align: top;\n",
       "    }\n",
       "\n",
       "    .dataframe thead th {\n",
       "        text-align: right;\n",
       "    }\n",
       "</style>\n",
       "<table border=\"1\" class=\"dataframe\">\n",
       "  <thead>\n",
       "    <tr style=\"text-align: right;\">\n",
       "      <th></th>\n",
       "      <th>name_last</th>\n",
       "      <th>name_first</th>\n",
       "      <th>name_middle</th>\n",
       "      <th>mail_sent_date</th>\n",
       "      <th>office</th>\n",
       "    </tr>\n",
       "  </thead>\n",
       "  <tbody>\n",
       "    <tr>\n",
       "      <th>0</th>\n",
       "      <td>ADELGLASS</td>\n",
       "      <td>JEFFREY</td>\n",
       "      <td>M.</td>\n",
       "      <td>2009-05-22 00:00:00</td>\n",
       "      <td>Center for Drug Evaluation and Research</td>\n",
       "    </tr>\n",
       "    <tr>\n",
       "      <th>1</th>\n",
       "      <td>ADKINSON</td>\n",
       "      <td>N.</td>\n",
       "      <td>FRANKLIN</td>\n",
       "      <td>2010-04-17</td>\n",
       "      <td>Center for Biologics Evaluation and Research</td>\n",
       "    </tr>\n",
       "    <tr>\n",
       "      <th>2</th>\n",
       "      <td>ALLEN</td>\n",
       "      <td>MARK</td>\n",
       "      <td>S.</td>\n",
       "      <td>2012-01-26</td>\n",
       "      <td>Center for Devices and Radiological Health</td>\n",
       "    </tr>\n",
       "    <tr>\n",
       "      <th>3</th>\n",
       "      <td>AMSTERDAM</td>\n",
       "      <td>DANIEL</td>\n",
       "      <td>NaN</td>\n",
       "      <td>2014.11.15</td>\n",
       "      <td>Center for Biologics Evaluation and Research</td>\n",
       "    </tr>\n",
       "    <tr>\n",
       "      <th>4</th>\n",
       "      <td>AMSTUTZ</td>\n",
       "      <td>HARLAN</td>\n",
       "      <td>C.</td>\n",
       "      <td>2014.07.17</td>\n",
       "      <td>Center for Devices and Radiological Health</td>\n",
       "    </tr>\n",
       "  </tbody>\n",
       "</table>\n",
       "</div>"
      ],
      "text/plain": [
       "   name_last name_first name_middle       mail_sent_date  \\\n",
       "0  ADELGLASS    JEFFREY          M.  2009-05-22 00:00:00   \n",
       "1   ADKINSON         N.    FRANKLIN           2010-04-17   \n",
       "2      ALLEN       MARK          S.           2012-01-26   \n",
       "3  AMSTERDAM     DANIEL         NaN           2014.11.15   \n",
       "4    AMSTUTZ     HARLAN          C.           2014.07.17   \n",
       "\n",
       "                                         office  \n",
       "0       Center for Drug Evaluation and Research  \n",
       "1  Center for Biologics Evaluation and Research  \n",
       "2    Center for Devices and Radiological Health  \n",
       "3  Center for Biologics Evaluation and Research  \n",
       "4    Center for Devices and Radiological Health  "
      ]
     },
     "execution_count": 5,
     "metadata": {},
     "output_type": "execute_result"
    }
   ],
   "source": [
    "#printing dataset shape\n",
    "print(\"Dataset Shape : \", df2.shape)\n",
    "print(\"Columns present : \",df2.columns)\n",
    "df2.head()"
   ]
  },
  {
   "cell_type": "code",
   "execution_count": 6,
   "metadata": {},
   "outputs": [
    {
     "name": "stdout",
     "output_type": "stream",
     "text": [
      "<class 'pandas.core.frame.DataFrame'>\n",
      "RangeIndex: 272 entries, 0 to 271\n",
      "Data columns (total 5 columns):\n",
      " #   Column          Non-Null Count  Dtype \n",
      "---  ------          --------------  ----- \n",
      " 0   name_last       272 non-null    object\n",
      " 1   name_first      272 non-null    object\n",
      " 2   name_middle     181 non-null    object\n",
      " 3   mail_sent_date  272 non-null    object\n",
      " 4   office          272 non-null    object\n",
      "dtypes: object(5)\n",
      "memory usage: 10.8+ KB\n"
     ]
    }
   ],
   "source": [
    "#obtaining the information on the dataset\n",
    "df2.info()"
   ]
  },
  {
   "cell_type": "code",
   "execution_count": 7,
   "metadata": {},
   "outputs": [],
   "source": [
    "#loop to convert cash fine and online fine values: numeric to float values , other values to 0 value\n",
    "for i in range(len(df1)):\n",
    "    df1.iloc[i][' cash_fine '] = df1.iloc[i][' cash_fine '][1:].replace(',','')\n",
    "    \n",
    "    if df1.iloc[i][' cash_fine '][0].isnumeric():\n",
    "        float(df1.iloc[i][' cash_fine '])    \n",
    "    else:\n",
    "        df1.iloc[i][' cash_fine ']=0\n",
    "    \n",
    "        \n",
    "    df1.iloc[i][' online_fine '] = df1.iloc[i][' online_fine '][1:].replace(',','')\n",
    "    \n",
    "    if df1.iloc[i][' online_fine '][0].isnumeric():\n",
    "        float(df1.iloc[i][' online_fine '])\n",
    "    else:\n",
    "        df1.iloc[i][' online_fine ']=0\n",
    "        "
   ]
  },
  {
   "cell_type": "code",
   "execution_count": 8,
   "metadata": {},
   "outputs": [],
   "source": [
    "#convert cash fine and online fine columns from object type to float type\n",
    "df1[' cash_fine '] = df1[' cash_fine '].astype(float)\n",
    "df1[' online_fine '] = df1[' online_fine '].astype(float)\n",
    "\n",
    "#add the values to cash fine and online fine to obtain total fine paid in fine column\n",
    "# fine = cash_fine + online_fine\n",
    "df1['fine']= df1[' cash_fine '] + df1[' online_fine ']"
   ]
  },
  {
   "cell_type": "code",
   "execution_count": 9,
   "metadata": {},
   "outputs": [
    {
     "name": "stdout",
     "output_type": "stream",
     "text": [
      "<class 'pandas.core.frame.DataFrame'>\n",
      "RangeIndex: 10087 entries, 0 to 10086\n",
      "Data columns (total 9 columns):\n",
      " #   Column         Non-Null Count  Dtype  \n",
      "---  ------         --------------  -----  \n",
      " 0   org_indiv      10087 non-null  object \n",
      " 1   first_name     9884 non-null   object \n",
      " 2   last_name      10087 non-null  object \n",
      " 3   city           10087 non-null  object \n",
      " 4   state          10087 non-null  object \n",
      " 5   category       10086 non-null  object \n",
      " 6    cash_fine     10087 non-null  float64\n",
      " 7    online_fine   10087 non-null  float64\n",
      " 8   fine           10087 non-null  float64\n",
      "dtypes: float64(3), object(6)\n",
      "memory usage: 709.4+ KB\n"
     ]
    }
   ],
   "source": [
    "#obtain information of modified dataset\n",
    "df1.info()"
   ]
  },
  {
   "cell_type": "code",
   "execution_count": 10,
   "metadata": {},
   "outputs": [
    {
     "data": {
      "text/html": [
       "<div>\n",
       "<style scoped>\n",
       "    .dataframe tbody tr th:only-of-type {\n",
       "        vertical-align: middle;\n",
       "    }\n",
       "\n",
       "    .dataframe tbody tr th {\n",
       "        vertical-align: top;\n",
       "    }\n",
       "\n",
       "    .dataframe thead th {\n",
       "        text-align: right;\n",
       "    }\n",
       "</style>\n",
       "<table border=\"1\" class=\"dataframe\">\n",
       "  <thead>\n",
       "    <tr style=\"text-align: right;\">\n",
       "      <th></th>\n",
       "      <th>org_indiv</th>\n",
       "      <th>first_name</th>\n",
       "      <th>last_name</th>\n",
       "      <th>city</th>\n",
       "      <th>state</th>\n",
       "      <th>category</th>\n",
       "      <th>cash_fine</th>\n",
       "      <th>online_fine</th>\n",
       "      <th>fine</th>\n",
       "    </tr>\n",
       "  </thead>\n",
       "  <tbody>\n",
       "    <tr>\n",
       "      <th>0</th>\n",
       "      <td>3-D MEDICAL SERVICES LLC</td>\n",
       "      <td>STEVEN</td>\n",
       "      <td>DEITELZWEIG</td>\n",
       "      <td>NEW ORLEANS</td>\n",
       "      <td>LA</td>\n",
       "      <td>Professional Advising</td>\n",
       "      <td>2625.0</td>\n",
       "      <td>0.0</td>\n",
       "      <td>2625.0</td>\n",
       "    </tr>\n",
       "    <tr>\n",
       "      <th>1</th>\n",
       "      <td>AA DOCTORS, INC.</td>\n",
       "      <td>AAKASH</td>\n",
       "      <td>AHUJA</td>\n",
       "      <td>PASO ROBLES</td>\n",
       "      <td>CA</td>\n",
       "      <td>Expert-Led Forums</td>\n",
       "      <td>1000.0</td>\n",
       "      <td>0.0</td>\n",
       "      <td>1000.0</td>\n",
       "    </tr>\n",
       "    <tr>\n",
       "      <th>2</th>\n",
       "      <td>ABBO, LILIAN MARGARITA</td>\n",
       "      <td>LILIAN</td>\n",
       "      <td>ABBO</td>\n",
       "      <td>MIAMI</td>\n",
       "      <td>FL</td>\n",
       "      <td>Business Related Travel</td>\n",
       "      <td>0.0</td>\n",
       "      <td>448.0</td>\n",
       "      <td>448.0</td>\n",
       "    </tr>\n",
       "    <tr>\n",
       "      <th>3</th>\n",
       "      <td>ABBO, LILIAN MARGARITA</td>\n",
       "      <td>LILIAN</td>\n",
       "      <td>ABBO</td>\n",
       "      <td>MIAMI</td>\n",
       "      <td>FL</td>\n",
       "      <td>Meals</td>\n",
       "      <td>0.0</td>\n",
       "      <td>119.0</td>\n",
       "      <td>119.0</td>\n",
       "    </tr>\n",
       "    <tr>\n",
       "      <th>4</th>\n",
       "      <td>ABBO, LILIAN MARGARITA</td>\n",
       "      <td>LILIAN</td>\n",
       "      <td>ABBO</td>\n",
       "      <td>MIAMI</td>\n",
       "      <td>FL</td>\n",
       "      <td>Professional Advising</td>\n",
       "      <td>1800.0</td>\n",
       "      <td>0.0</td>\n",
       "      <td>1800.0</td>\n",
       "    </tr>\n",
       "  </tbody>\n",
       "</table>\n",
       "</div>"
      ],
      "text/plain": [
       "                  org_indiv first_name    last_name         city state  \\\n",
       "0  3-D MEDICAL SERVICES LLC     STEVEN  DEITELZWEIG  NEW ORLEANS    LA   \n",
       "1          AA DOCTORS, INC.     AAKASH        AHUJA  PASO ROBLES    CA   \n",
       "2    ABBO, LILIAN MARGARITA     LILIAN         ABBO        MIAMI    FL   \n",
       "3    ABBO, LILIAN MARGARITA     LILIAN         ABBO        MIAMI    FL   \n",
       "4    ABBO, LILIAN MARGARITA     LILIAN         ABBO        MIAMI    FL   \n",
       "\n",
       "                  category   cash_fine    online_fine     fine  \n",
       "0    Professional Advising       2625.0            0.0  2625.0  \n",
       "1        Expert-Led Forums       1000.0            0.0  1000.0  \n",
       "2  Business Related Travel          0.0          448.0   448.0  \n",
       "3                    Meals          0.0          119.0   119.0  \n",
       "4    Professional Advising       1800.0            0.0  1800.0  "
      ]
     },
     "execution_count": 10,
     "metadata": {},
     "output_type": "execute_result"
    }
   ],
   "source": [
    "#view dataset\n",
    "df1.head()"
   ]
  },
  {
   "cell_type": "markdown",
   "metadata": {},
   "source": [
    "### Standardise the mail_sent_date column values to YYYY-MM-DD standard date format"
   ]
  },
  {
   "cell_type": "code",
   "execution_count": 11,
   "metadata": {},
   "outputs": [
    {
     "name": "stdout",
     "output_type": "stream",
     "text": [
      "On standardizing the date values to YYYY-MM-DD :\n"
     ]
    },
    {
     "data": {
      "text/html": [
       "<div>\n",
       "<style scoped>\n",
       "    .dataframe tbody tr th:only-of-type {\n",
       "        vertical-align: middle;\n",
       "    }\n",
       "\n",
       "    .dataframe tbody tr th {\n",
       "        vertical-align: top;\n",
       "    }\n",
       "\n",
       "    .dataframe thead th {\n",
       "        text-align: right;\n",
       "    }\n",
       "</style>\n",
       "<table border=\"1\" class=\"dataframe\">\n",
       "  <thead>\n",
       "    <tr style=\"text-align: right;\">\n",
       "      <th></th>\n",
       "      <th>name_last</th>\n",
       "      <th>name_first</th>\n",
       "      <th>name_middle</th>\n",
       "      <th>mail_sent_date</th>\n",
       "      <th>office</th>\n",
       "    </tr>\n",
       "  </thead>\n",
       "  <tbody>\n",
       "    <tr>\n",
       "      <th>0</th>\n",
       "      <td>ADELGLASS</td>\n",
       "      <td>JEFFREY</td>\n",
       "      <td>M.</td>\n",
       "      <td>2009-05-22</td>\n",
       "      <td>Center for Drug Evaluation and Research</td>\n",
       "    </tr>\n",
       "    <tr>\n",
       "      <th>1</th>\n",
       "      <td>ADKINSON</td>\n",
       "      <td>N.</td>\n",
       "      <td>FRANKLIN</td>\n",
       "      <td>2010-04-17</td>\n",
       "      <td>Center for Biologics Evaluation and Research</td>\n",
       "    </tr>\n",
       "    <tr>\n",
       "      <th>2</th>\n",
       "      <td>ALLEN</td>\n",
       "      <td>MARK</td>\n",
       "      <td>S.</td>\n",
       "      <td>2012-01-26</td>\n",
       "      <td>Center for Devices and Radiological Health</td>\n",
       "    </tr>\n",
       "    <tr>\n",
       "      <th>3</th>\n",
       "      <td>AMSTERDAM</td>\n",
       "      <td>DANIEL</td>\n",
       "      <td>NaN</td>\n",
       "      <td>2014-11-15</td>\n",
       "      <td>Center for Biologics Evaluation and Research</td>\n",
       "    </tr>\n",
       "    <tr>\n",
       "      <th>4</th>\n",
       "      <td>AMSTUTZ</td>\n",
       "      <td>HARLAN</td>\n",
       "      <td>C.</td>\n",
       "      <td>2014-07-17</td>\n",
       "      <td>Center for Devices and Radiological Health</td>\n",
       "    </tr>\n",
       "  </tbody>\n",
       "</table>\n",
       "</div>"
      ],
      "text/plain": [
       "   name_last name_first name_middle mail_sent_date  \\\n",
       "0  ADELGLASS    JEFFREY          M.     2009-05-22   \n",
       "1   ADKINSON         N.    FRANKLIN     2010-04-17   \n",
       "2      ALLEN       MARK          S.     2012-01-26   \n",
       "3  AMSTERDAM     DANIEL         NaN     2014-11-15   \n",
       "4    AMSTUTZ     HARLAN          C.     2014-07-17   \n",
       "\n",
       "                                         office  \n",
       "0       Center for Drug Evaluation and Research  \n",
       "1  Center for Biologics Evaluation and Research  \n",
       "2    Center for Devices and Radiological Health  \n",
       "3  Center for Biologics Evaluation and Research  \n",
       "4    Center for Devices and Radiological Health  "
      ]
     },
     "execution_count": 11,
     "metadata": {},
     "output_type": "execute_result"
    }
   ],
   "source": [
    "#convert mail_sent_date column to standard YYYY-MM-DD format\n",
    "df2[\"mail_sent_date\"] = pd.to_datetime(df2[\"mail_sent_date\"]).dt.strftime(\"%Y-%m-%d\")\n",
    "\n",
    "print('On standardizing the date values to YYYY-MM-DD :')\n",
    "df2.head()"
   ]
  },
  {
   "cell_type": "markdown",
   "metadata": {},
   "source": [
    "### In which Year maximum number of emails were sent to doctors?"
   ]
  },
  {
   "cell_type": "code",
   "execution_count": 12,
   "metadata": {},
   "outputs": [
    {
     "data": {
      "text/html": [
       "<div>\n",
       "<style scoped>\n",
       "    .dataframe tbody tr th:only-of-type {\n",
       "        vertical-align: middle;\n",
       "    }\n",
       "\n",
       "    .dataframe tbody tr th {\n",
       "        vertical-align: top;\n",
       "    }\n",
       "\n",
       "    .dataframe thead th {\n",
       "        text-align: right;\n",
       "    }\n",
       "</style>\n",
       "<table border=\"1\" class=\"dataframe\">\n",
       "  <thead>\n",
       "    <tr style=\"text-align: right;\">\n",
       "      <th></th>\n",
       "      <th>name_last</th>\n",
       "      <th>name_first</th>\n",
       "      <th>name_middle</th>\n",
       "      <th>mail_sent_date</th>\n",
       "      <th>office</th>\n",
       "      <th>Year</th>\n",
       "    </tr>\n",
       "  </thead>\n",
       "  <tbody>\n",
       "    <tr>\n",
       "      <th>0</th>\n",
       "      <td>ADELGLASS</td>\n",
       "      <td>JEFFREY</td>\n",
       "      <td>M.</td>\n",
       "      <td>2009-05-22</td>\n",
       "      <td>Center for Drug Evaluation and Research</td>\n",
       "      <td>2009</td>\n",
       "    </tr>\n",
       "    <tr>\n",
       "      <th>1</th>\n",
       "      <td>ADKINSON</td>\n",
       "      <td>N.</td>\n",
       "      <td>FRANKLIN</td>\n",
       "      <td>2010-04-17</td>\n",
       "      <td>Center for Biologics Evaluation and Research</td>\n",
       "      <td>2010</td>\n",
       "    </tr>\n",
       "    <tr>\n",
       "      <th>2</th>\n",
       "      <td>ALLEN</td>\n",
       "      <td>MARK</td>\n",
       "      <td>S.</td>\n",
       "      <td>2012-01-26</td>\n",
       "      <td>Center for Devices and Radiological Health</td>\n",
       "      <td>2012</td>\n",
       "    </tr>\n",
       "    <tr>\n",
       "      <th>3</th>\n",
       "      <td>AMSTERDAM</td>\n",
       "      <td>DANIEL</td>\n",
       "      <td>NaN</td>\n",
       "      <td>2014-11-15</td>\n",
       "      <td>Center for Biologics Evaluation and Research</td>\n",
       "      <td>2014</td>\n",
       "    </tr>\n",
       "    <tr>\n",
       "      <th>4</th>\n",
       "      <td>AMSTUTZ</td>\n",
       "      <td>HARLAN</td>\n",
       "      <td>C.</td>\n",
       "      <td>2014-07-17</td>\n",
       "      <td>Center for Devices and Radiological Health</td>\n",
       "      <td>2014</td>\n",
       "    </tr>\n",
       "  </tbody>\n",
       "</table>\n",
       "</div>"
      ],
      "text/plain": [
       "   name_last name_first name_middle mail_sent_date  \\\n",
       "0  ADELGLASS    JEFFREY          M.     2009-05-22   \n",
       "1   ADKINSON         N.    FRANKLIN     2010-04-17   \n",
       "2      ALLEN       MARK          S.     2012-01-26   \n",
       "3  AMSTERDAM     DANIEL         NaN     2014-11-15   \n",
       "4    AMSTUTZ     HARLAN          C.     2014-07-17   \n",
       "\n",
       "                                         office  Year  \n",
       "0       Center for Drug Evaluation and Research  2009  \n",
       "1  Center for Biologics Evaluation and Research  2010  \n",
       "2    Center for Devices and Radiological Health  2012  \n",
       "3  Center for Biologics Evaluation and Research  2014  \n",
       "4    Center for Devices and Radiological Health  2014  "
      ]
     },
     "execution_count": 12,
     "metadata": {},
     "output_type": "execute_result"
    }
   ],
   "source": [
    "#extract year from mail_sent_date column and place it in Year column\n",
    "df2['Year'] = pd.to_datetime(df2['mail_sent_date']).dt.strftime(\"%Y\")\n",
    "df2.head()"
   ]
  },
  {
   "cell_type": "code",
   "execution_count": 13,
   "metadata": {},
   "outputs": [
    {
     "name": "stdout",
     "output_type": "stream",
     "text": [
      "Maximum number of emails were sent to doctors in the year 2014 and the number of mails send were 32\n"
     ]
    }
   ],
   "source": [
    "#obtain total number of mails sent to doctors for the years\n",
    "mails = []\n",
    "year = []\n",
    "for group,frame in df2.groupby('Year'):\n",
    "    mails.append((len(frame)))\n",
    "    year.append(group)\n",
    "\n",
    "#print the year for which maximum number of mails were sent to doctors\n",
    "max_mails = max(mails)\n",
    "print(\"Maximum number of emails were sent to doctors in the year \"+str(year[mails.index(max_mails)])+\n",
    "      \" and the number of mails send were \"+str((max_mails)))"
   ]
  },
  {
   "cell_type": "markdown",
   "metadata": {},
   "source": [
    "### Write a query to get total fine paid per Office"
   ]
  },
  {
   "cell_type": "code",
   "execution_count": 14,
   "metadata": {},
   "outputs": [],
   "source": [
    "#Join(inner join) both datasets on first name and last name\n",
    "dataframe = pd.merge(df1, df2, how='inner', left_on=['first_name','last_name'],right_on=['name_first','name_last'])"
   ]
  },
  {
   "cell_type": "code",
   "execution_count": 15,
   "metadata": {},
   "outputs": [
    {
     "name": "stdout",
     "output_type": "stream",
     "text": [
      "<class 'pandas.core.frame.DataFrame'>\n",
      "Int64Index: 24 entries, 0 to 23\n",
      "Data columns (total 15 columns):\n",
      " #   Column          Non-Null Count  Dtype  \n",
      "---  ------          --------------  -----  \n",
      " 0   org_indiv       24 non-null     object \n",
      " 1   first_name      24 non-null     object \n",
      " 2   last_name       24 non-null     object \n",
      " 3   city            24 non-null     object \n",
      " 4   state           24 non-null     object \n",
      " 5   category        24 non-null     object \n",
      " 6    cash_fine      24 non-null     float64\n",
      " 7    online_fine    24 non-null     float64\n",
      " 8   fine            24 non-null     float64\n",
      " 9   name_last       24 non-null     object \n",
      " 10  name_first      24 non-null     object \n",
      " 11  name_middle     8 non-null      object \n",
      " 12  mail_sent_date  24 non-null     object \n",
      " 13  office          24 non-null     object \n",
      " 14  Year            24 non-null     object \n",
      "dtypes: float64(3), object(12)\n",
      "memory usage: 3.0+ KB\n"
     ]
    }
   ],
   "source": [
    "#view information on merged dataset\n",
    "dataframe.info()"
   ]
  },
  {
   "cell_type": "code",
   "execution_count": 16,
   "metadata": {},
   "outputs": [],
   "source": [
    "#drop one of the common columns from the dataset\n",
    "dataframe.drop(['name_first','name_last','name_middle'], axis=1, inplace=True)"
   ]
  },
  {
   "cell_type": "code",
   "execution_count": 17,
   "metadata": {},
   "outputs": [
    {
     "name": "stdout",
     "output_type": "stream",
     "text": [
      "Total Fine Paid per Office is as : \n",
      "Total fine paid by office Center for Biologics Evaluation and Research is : 724.0\n",
      "Total fine paid by office Center for Devices and Radiological Health is : 4472.71\n",
      "Total fine paid by office Center for Drug Evaluation and Research is : 7982.08\n"
     ]
    }
   ],
   "source": [
    "#obtain mean of fine paid by each office\n",
    "print('Total Fine Paid per Office is as : ')\n",
    "for group,frame in dataframe.groupby('office'):\n",
    "    print('Total fine paid by office '+ str(group)+' is : '+ str(round(mean(frame['fine']), 2)))"
   ]
  },
  {
   "cell_type": "markdown",
   "metadata": {},
   "source": [
    "### Write a query to get the highest total fine and lowest total fine paid per state"
   ]
  },
  {
   "cell_type": "code",
   "execution_count": 18,
   "metadata": {},
   "outputs": [
    {
     "name": "stdout",
     "output_type": "stream",
     "text": [
      "Lowest total fine and Highest total fine paid by each state is as: \n",
      "         fine           \n",
      "          min        max\n",
      "state                   \n",
      "AK     1750.0     1750.0\n",
      "AL       26.0   232991.0\n",
      "AR       26.0    77670.0\n",
      "AZ       26.0   151642.0\n",
      "CA       25.0   323122.0\n",
      "CO       31.0   282565.0\n",
      "CT       25.0   132853.0\n",
      "DC       25.0    62000.0\n",
      "DE       36.0    19750.0\n",
      "FL       25.0  1185466.0\n",
      "GA       25.0   101734.0\n",
      "HI      102.0     6500.0\n",
      "IA       26.0   123375.0\n",
      "ID       33.0     7000.0\n",
      "IL       25.0   160984.0\n",
      "IN       26.0    40500.0\n",
      "KS       29.0    70000.0\n",
      "KY       26.0   137642.0\n",
      "LA       27.0    42000.0\n",
      "MA       29.0   617548.0\n",
      "MD       26.0   171986.0\n",
      "ME       42.0     6000.0\n",
      "MI       26.0   152466.0\n",
      "MN       25.0   146623.0\n",
      "MO       26.0    88302.0\n",
      "MS       34.0     8500.0\n",
      "MT       29.0     4350.0\n",
      "NC        0.0   857698.0\n",
      "ND       63.0     4450.0\n",
      "NE       25.0    50449.0\n",
      "NH       96.0    78000.0\n",
      "NJ       25.0    88087.0\n",
      "NM       60.0    18750.0\n",
      "NV       25.0     9200.0\n",
      "NY       25.0   100000.0\n",
      "OH       25.0   107292.0\n",
      "OK       37.0     7250.0\n",
      "OR       27.0   186490.0\n",
      "PA       25.0   672263.0\n",
      "PR       26.0    20175.0\n",
      "RI       28.0    65278.0\n",
      "SC       26.0   117225.0\n",
      "SD       66.0     7750.0\n",
      "TN       27.0   177786.0\n",
      "TX       25.0   479314.0\n",
      "UT       27.0   224997.0\n",
      "VA       36.0    38102.0\n",
      "VT       40.0    11153.0\n",
      "WA       31.0    46660.0\n",
      "WI       25.0   131863.0\n",
      "WV       28.0    19500.0\n",
      "WY       27.0     7750.0\n"
     ]
    }
   ],
   "source": [
    "result = df1.groupby('state').agg({'fine': ['min', 'max']})\n",
    "print(\"Lowest total fine and Highest total fine paid by each state is as: \")\n",
    "print(result)"
   ]
  },
  {
   "cell_type": "markdown",
   "metadata": {},
   "source": [
    "### Write a query to get the least 2 states that had to pay minimum 'online' fine "
   ]
  },
  {
   "cell_type": "code",
   "execution_count": 19,
   "metadata": {},
   "outputs": [
    {
     "data": {
      "text/html": [
       "<div>\n",
       "<style scoped>\n",
       "    .dataframe tbody tr th:only-of-type {\n",
       "        vertical-align: middle;\n",
       "    }\n",
       "\n",
       "    .dataframe tbody tr th {\n",
       "        vertical-align: top;\n",
       "    }\n",
       "\n",
       "    .dataframe thead th {\n",
       "        text-align: right;\n",
       "    }\n",
       "</style>\n",
       "<table border=\"1\" class=\"dataframe\">\n",
       "  <thead>\n",
       "    <tr style=\"text-align: right;\">\n",
       "      <th></th>\n",
       "      <th>org_indiv</th>\n",
       "      <th>first_name</th>\n",
       "      <th>last_name</th>\n",
       "      <th>city</th>\n",
       "      <th>state</th>\n",
       "      <th>category</th>\n",
       "      <th>cash_fine</th>\n",
       "      <th>online_fine</th>\n",
       "      <th>fine</th>\n",
       "    </tr>\n",
       "  </thead>\n",
       "  <tbody>\n",
       "    <tr>\n",
       "      <th>0</th>\n",
       "      <td>3-D MEDICAL SERVICES LLC</td>\n",
       "      <td>STEVEN</td>\n",
       "      <td>DEITELZWEIG</td>\n",
       "      <td>NEW ORLEANS</td>\n",
       "      <td>LA</td>\n",
       "      <td>Professional Advising</td>\n",
       "      <td>2625.0</td>\n",
       "      <td>NaN</td>\n",
       "      <td>2625.0</td>\n",
       "    </tr>\n",
       "    <tr>\n",
       "      <th>1</th>\n",
       "      <td>AA DOCTORS, INC.</td>\n",
       "      <td>AAKASH</td>\n",
       "      <td>AHUJA</td>\n",
       "      <td>PASO ROBLES</td>\n",
       "      <td>CA</td>\n",
       "      <td>Expert-Led Forums</td>\n",
       "      <td>1000.0</td>\n",
       "      <td>NaN</td>\n",
       "      <td>1000.0</td>\n",
       "    </tr>\n",
       "    <tr>\n",
       "      <th>2</th>\n",
       "      <td>ABBO, LILIAN MARGARITA</td>\n",
       "      <td>LILIAN</td>\n",
       "      <td>ABBO</td>\n",
       "      <td>MIAMI</td>\n",
       "      <td>FL</td>\n",
       "      <td>Business Related Travel</td>\n",
       "      <td>0.0</td>\n",
       "      <td>448.0</td>\n",
       "      <td>448.0</td>\n",
       "    </tr>\n",
       "    <tr>\n",
       "      <th>3</th>\n",
       "      <td>ABBO, LILIAN MARGARITA</td>\n",
       "      <td>LILIAN</td>\n",
       "      <td>ABBO</td>\n",
       "      <td>MIAMI</td>\n",
       "      <td>FL</td>\n",
       "      <td>Meals</td>\n",
       "      <td>0.0</td>\n",
       "      <td>119.0</td>\n",
       "      <td>119.0</td>\n",
       "    </tr>\n",
       "    <tr>\n",
       "      <th>4</th>\n",
       "      <td>ABBO, LILIAN MARGARITA</td>\n",
       "      <td>LILIAN</td>\n",
       "      <td>ABBO</td>\n",
       "      <td>MIAMI</td>\n",
       "      <td>FL</td>\n",
       "      <td>Professional Advising</td>\n",
       "      <td>1800.0</td>\n",
       "      <td>NaN</td>\n",
       "      <td>1800.0</td>\n",
       "    </tr>\n",
       "  </tbody>\n",
       "</table>\n",
       "</div>"
      ],
      "text/plain": [
       "                  org_indiv first_name    last_name         city state  \\\n",
       "0  3-D MEDICAL SERVICES LLC     STEVEN  DEITELZWEIG  NEW ORLEANS    LA   \n",
       "1          AA DOCTORS, INC.     AAKASH        AHUJA  PASO ROBLES    CA   \n",
       "2    ABBO, LILIAN MARGARITA     LILIAN         ABBO        MIAMI    FL   \n",
       "3    ABBO, LILIAN MARGARITA     LILIAN         ABBO        MIAMI    FL   \n",
       "4    ABBO, LILIAN MARGARITA     LILIAN         ABBO        MIAMI    FL   \n",
       "\n",
       "                  category   cash_fine    online_fine     fine  \n",
       "0    Professional Advising       2625.0            NaN  2625.0  \n",
       "1        Expert-Led Forums       1000.0            NaN  1000.0  \n",
       "2  Business Related Travel          0.0          448.0   448.0  \n",
       "3                    Meals          0.0          119.0   119.0  \n",
       "4    Professional Advising       1800.0            NaN  1800.0  "
      ]
     },
     "execution_count": 19,
     "metadata": {},
     "output_type": "execute_result"
    }
   ],
   "source": [
    "#replace 0 values in online fine with Nan\n",
    "df1[' online_fine '] = df1[' online_fine '].replace(0, np.NaN)\n",
    "df1.head()"
   ]
  },
  {
   "cell_type": "code",
   "execution_count": 20,
   "metadata": {},
   "outputs": [
    {
     "name": "stdout",
     "output_type": "stream",
     "text": [
      "<class 'pandas.core.frame.DataFrame'>\n",
      "RangeIndex: 52 entries, 0 to 51\n",
      "Data columns (total 2 columns):\n",
      " #   Column                Non-Null Count  Dtype  \n",
      "---  ------                --------------  -----  \n",
      " 0   (state, )             52 non-null     object \n",
      " 1   ( online_fine , min)  51 non-null     float64\n",
      "dtypes: float64(1), object(1)\n",
      "memory usage: 960.0+ bytes\n"
     ]
    }
   ],
   "source": [
    "#obtain minimum of online fine paid by each state\n",
    "online_fine = df1.groupby('state').agg({' online_fine ': ['min']})\n",
    "\n",
    "#convert state names from index to column by resetting the index\n",
    "online_fine.reset_index(level=0,inplace=True)\n",
    "\n",
    "#obtain information for this dataframe\n",
    "online_fine.info()"
   ]
  },
  {
   "cell_type": "code",
   "execution_count": 21,
   "metadata": {},
   "outputs": [
    {
     "name": "stdout",
     "output_type": "stream",
     "text": [
      "<class 'pandas.core.frame.DataFrame'>\n",
      "RangeIndex: 52 entries, 0 to 51\n",
      "Data columns (total 2 columns):\n",
      " #   Column           Non-Null Count  Dtype  \n",
      "---  ------           --------------  -----  \n",
      " 0   state_name       52 non-null     object \n",
      " 1   min_online_fine  52 non-null     float64\n",
      "dtypes: float64(1), object(1)\n",
      "memory usage: 960.0+ bytes\n"
     ]
    }
   ],
   "source": [
    "#rename the columns\n",
    "online_fine.columns = ['state_name','min_online_fine']\n",
    "\n",
    "#fill Nan values with 0\n",
    "online_fine.fillna(0, inplace=True)\n",
    "\n",
    "#obtain information for dataset\n",
    "online_fine.info()"
   ]
  },
  {
   "cell_type": "code",
   "execution_count": 22,
   "metadata": {},
   "outputs": [
    {
     "name": "stdout",
     "output_type": "stream",
     "text": [
      "The least 2 states that had to pay minimum online fine are :\n"
     ]
    },
    {
     "data": {
      "text/html": [
       "<div>\n",
       "<style scoped>\n",
       "    .dataframe tbody tr th:only-of-type {\n",
       "        vertical-align: middle;\n",
       "    }\n",
       "\n",
       "    .dataframe tbody tr th {\n",
       "        vertical-align: top;\n",
       "    }\n",
       "\n",
       "    .dataframe thead th {\n",
       "        text-align: right;\n",
       "    }\n",
       "</style>\n",
       "<table border=\"1\" class=\"dataframe\">\n",
       "  <thead>\n",
       "    <tr style=\"text-align: right;\">\n",
       "      <th></th>\n",
       "      <th>state_name</th>\n",
       "      <th>min_online_fine</th>\n",
       "    </tr>\n",
       "  </thead>\n",
       "  <tbody>\n",
       "    <tr>\n",
       "      <th>0</th>\n",
       "      <td>AK</td>\n",
       "      <td>0.0</td>\n",
       "    </tr>\n",
       "    <tr>\n",
       "      <th>4</th>\n",
       "      <td>CA</td>\n",
       "      <td>25.0</td>\n",
       "    </tr>\n",
       "  </tbody>\n",
       "</table>\n",
       "</div>"
      ],
      "text/plain": [
       "  state_name  min_online_fine\n",
       "0         AK              0.0\n",
       "4         CA             25.0"
      ]
     },
     "execution_count": 22,
     "metadata": {},
     "output_type": "execute_result"
    }
   ],
   "source": [
    "#obtain least 2 states with minimum online fine\n",
    "print('The least 2 states that had to pay minimum online fine are :')\n",
    "online_fine.nsmallest(2,['min_online_fine'])"
   ]
  },
  {
   "cell_type": "markdown",
   "metadata": {},
   "source": [
    "### Write a SQL query to find the number of doctors that contributed to the state having highest 'cash' fine"
   ]
  },
  {
   "cell_type": "code",
   "execution_count": 23,
   "metadata": {},
   "outputs": [
    {
     "name": "stdout",
     "output_type": "stream",
     "text": [
      "Numeber of Doctors that contributed to the state have highest cash fine is : 738, for the state : FL\n"
     ]
    }
   ],
   "source": [
    "#obtain maximum cash fine paid by the states\n",
    "cashfine_max_values = []\n",
    "for group,frame in df1.groupby('state'):\n",
    "    cashfine_max_values.append(frame[' cash_fine '].max())\n",
    "\n",
    "#obtain the state which paid maximum cash fine  \n",
    "max_cashfine_for_group = max(cashfine_max_values)\n",
    "\n",
    "#obtain the number of doctors who contributed to state having highest cash fine\n",
    "for group,frame in df1.groupby('state'):\n",
    "    if frame[' cash_fine '].max() == max_cashfine_for_group:\n",
    "        print(\"Numeber of Doctors that contributed to the state have highest cash fine is : \"+str(len(frame))+\n",
    "              \", for the state : \"+str(group))"
   ]
  },
  {
   "cell_type": "markdown",
   "metadata": {},
   "source": [
    "### Get the top 5 average fine paid per state and category"
   ]
  },
  {
   "cell_type": "code",
   "execution_count": 24,
   "metadata": {},
   "outputs": [],
   "source": [
    "#obtain mean of total fine paid by the states and categories\n",
    "state_category_group = []\n",
    "mean_fine = []\n",
    "for group,frame in df1.groupby(['state','category']):\n",
    "    state_category_group.append(str(group))\n",
    "    mean_fine.append(mean(frame['fine']))"
   ]
  },
  {
   "cell_type": "code",
   "execution_count": 25,
   "metadata": {},
   "outputs": [
    {
     "name": "stdout",
     "output_type": "stream",
     "text": [
      "Top 5 average fine paid per state and category : \n"
     ]
    },
    {
     "data": {
      "text/html": [
       "<div>\n",
       "<style scoped>\n",
       "    .dataframe tbody tr th:only-of-type {\n",
       "        vertical-align: middle;\n",
       "    }\n",
       "\n",
       "    .dataframe tbody tr th {\n",
       "        vertical-align: top;\n",
       "    }\n",
       "\n",
       "    .dataframe thead th {\n",
       "        text-align: right;\n",
       "    }\n",
       "</style>\n",
       "<table border=\"1\" class=\"dataframe\">\n",
       "  <thead>\n",
       "    <tr style=\"text-align: right;\">\n",
       "      <th></th>\n",
       "      <th>State-Category</th>\n",
       "      <th>MeanFine</th>\n",
       "    </tr>\n",
       "  </thead>\n",
       "  <tbody>\n",
       "    <tr>\n",
       "      <th>279</th>\n",
       "      <td>('UT', 'Infosys Sponsored Research initiated b...</td>\n",
       "      <td>224997.000000</td>\n",
       "    </tr>\n",
       "    <tr>\n",
       "      <th>229</th>\n",
       "      <td>('OR', 'Infosys Sponsored Research initiated b...</td>\n",
       "      <td>186490.000000</td>\n",
       "    </tr>\n",
       "    <tr>\n",
       "      <th>59</th>\n",
       "      <td>('FL', 'Infosys Sponsored Research initiated o...</td>\n",
       "      <td>181115.571429</td>\n",
       "    </tr>\n",
       "    <tr>\n",
       "      <th>266</th>\n",
       "      <td>('TN', 'Infosys Sponsored Research initiated o...</td>\n",
       "      <td>177786.000000</td>\n",
       "    </tr>\n",
       "    <tr>\n",
       "      <th>237</th>\n",
       "      <td>('PA', 'Investigator-Initiated Research')</td>\n",
       "      <td>150778.000000</td>\n",
       "    </tr>\n",
       "  </tbody>\n",
       "</table>\n",
       "</div>"
      ],
      "text/plain": [
       "                                        State-Category       MeanFine\n",
       "279  ('UT', 'Infosys Sponsored Research initiated b...  224997.000000\n",
       "229  ('OR', 'Infosys Sponsored Research initiated b...  186490.000000\n",
       "59   ('FL', 'Infosys Sponsored Research initiated o...  181115.571429\n",
       "266  ('TN', 'Infosys Sponsored Research initiated o...  177786.000000\n",
       "237          ('PA', 'Investigator-Initiated Research')  150778.000000"
      ]
     },
     "execution_count": 25,
     "metadata": {},
     "output_type": "execute_result"
    }
   ],
   "source": [
    "#combine two lists to form the dataframe\n",
    "state_cat_df = pd.DataFrame(list(zip(state_category_group,mean_fine)), columns = ['State-Category','MeanFine'])\n",
    "\n",
    "#sort the data in descending order of meanfine paid\n",
    "state_cat_df.sort_values(\"MeanFine\", ascending = False, inplace = True)\n",
    "\n",
    "#print top 5 of the average fine paid per state and category\n",
    "print('Top 5 average fine paid per state and category : ')\n",
    "state_cat_df.head()"
   ]
  },
  {
   "cell_type": "markdown",
   "metadata": {},
   "source": [
    "### Any other insight from the dataset based on exploratory analysis can be can also be shared"
   ]
  },
  {
   "cell_type": "markdown",
   "metadata": {},
   "source": [
    "**Plot 1**"
   ]
  },
  {
   "cell_type": "code",
   "execution_count": 26,
   "metadata": {},
   "outputs": [
    {
     "data": {
      "text/plain": [
       "Text(0.5, 1.0, 'Mails sent over Years')"
      ]
     },
     "execution_count": 26,
     "metadata": {},
     "output_type": "execute_result"
    },
    {
     "data": {
      "image/png": "[encoded data removed]",
      "text/plain": [
       "<Figure size 720x360 with 1 Axes>"
      ]
     },
     "metadata": {
      "needs_background": "light"
     },
     "output_type": "display_data"
    }
   ],
   "source": [
    "#plot for duration of series\n",
    "fig,axs=plt.subplots(figsize=(10,5))\n",
    "g=sns.kdeplot(df2['Year'])\n",
    "g.set_title(\"Mails sent over Years\")"
   ]
  },
  {
   "cell_type": "markdown",
   "metadata": {},
   "source": [
    "Plot 1:\n",
    "1. It shows that Maximum mails were sent between 2010 and 2015, mostly around 2014\n",
    "2. The number of mails increased from 2005 onwards and was at maximum at 2014, from then the number of mails reduced "
   ]
  },
  {
   "cell_type": "markdown",
   "metadata": {},
   "source": [
    "**Plot 2**"
   ]
  },
  {
   "cell_type": "code",
   "execution_count": 27,
   "metadata": {},
   "outputs": [
    {
     "data": {
      "image/png": "[encoded data removed]",
      "text/plain": [
       "<Figure size 1440x360 with 1 Axes>"
      ]
     },
     "metadata": {
      "needs_background": "light"
     },
     "output_type": "display_data"
    }
   ],
   "source": [
    "fig,axs=plt.subplots(figsize=(20,5))\n",
    "g=sns.barplot(x=df2['office'].value_counts().index,y=df2['office'].value_counts())\n",
    "g.set_title(\"Mails per Office\")\n",
    "g.set_xlabel(\"Office\")\n",
    "g.set_ylabel(\"Mails\")\n",
    "g.tick_params(axis='x', labelrotation=90)\n",
    "plt.show()"
   ]
  },
  {
   "cell_type": "markdown",
   "metadata": {},
   "source": [
    "Plot 2:\n",
    "1. Maximum number of mails were sent to Center for Devices and Radiological Health, followed by Center for Dru Evaluation and Research\n",
    "2. Maximum number of mails sent was around 140 approximately"
   ]
  },
  {
   "cell_type": "markdown",
   "metadata": {},
   "source": [
    "**Plot 3**"
   ]
  },
  {
   "cell_type": "code",
   "execution_count": 28,
   "metadata": {},
   "outputs": [],
   "source": [
    "#fill Nan with 0 value\n",
    "df1.fillna(0, inplace=True)\n",
    "\n",
    "#obtain cash fine and online fine paid by each state\n",
    "cash_fine_s = []\n",
    "online_fine_s = []\n",
    "name_state = []\n",
    "for group,frame in df1.groupby('state'):\n",
    "    name_state.append(str(group))\n",
    "    cash_fine_s.append(round( mean(frame[' cash_fine ']) , 1))\n",
    "    online_fine_s.append(round( mean(frame[' online_fine ']) , 1))"
   ]
  },
  {
   "cell_type": "code",
   "execution_count": 29,
   "metadata": {},
   "outputs": [
    {
     "data": {
      "image/png": "[encoded data removed]",
      "text/plain": [
       "<Figure size 1800x720 with 1 Axes>"
      ]
     },
     "metadata": {
      "needs_background": "light"
     },
     "output_type": "display_data"
    }
   ],
   "source": [
    "fig,axs=plt.subplots(figsize=(25,10))\n",
    "plt.bar(name_state, cash_fine_s , color='lightseagreen')\n",
    "plt.bar(name_state, online_fine_s, bottom=cash_fine_s, color='sandybrown')\n",
    "plt.xlabel(\"States\")\n",
    "plt.ylabel(\"Fine Paid\")\n",
    "plt.legend([\"Cash Fine\",\"Online Fine\"])\n",
    "plt.show()"
   ]
  },
  {
   "cell_type": "markdown",
   "metadata": {},
   "source": [
    "Plot 3:\n",
    "1. For every state most of the amount paid as fine is in cash whereas very less amount is paid online\n",
    "2. Maximum amount of total fine as well as maximum amount of cash fine is paid by MA\n",
    "3. The only state with no online fine, total fine amount completely paid in cash is AK "
   ]
  }
 ],
 "metadata": {
  "kernelspec": {
   "display_name": "Python 3",
   "language": "python",
   "name": "python3"
  },
  "language_info": {
   "codemirror_mode": {
    "name": "ipython",
    "version": 3
   },
   "file_extension": ".py",
   "mimetype": "text/x-python",
   "name": "python",
   "nbconvert_exporter": "python",
   "pygments_lexer": "ipython3",
   "version": "3.8.3"
  }
 },
 "nbformat": 4,
 "nbformat_minor": 4
}
